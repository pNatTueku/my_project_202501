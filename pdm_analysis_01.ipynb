{
 "cells": [
  {
   "cell_type": "markdown",
   "id": "edcebd80",
   "metadata": {},
   "source": [
    "### Leaning Predictive Maintenance\n",
    "- Use git, VSCode, Notebooks (.ipynb)"
   ]
  },
  {
   "cell_type": "code",
   "execution_count": 2,
   "id": "2afb6bde",
   "metadata": {},
   "outputs": [],
   "source": [
    "# import libraries\n",
    "import pandas as pd\n",
    "import numpy as np\n",
    "import matplotlib.pyplot as plt"
   ]
  },
  {
   "cell_type": "code",
   "execution_count": 3,
   "id": "20972db6",
   "metadata": {},
   "outputs": [
    {
     "name": "stdout",
     "output_type": "stream",
     "text": [
      "Experiment with new data\n"
     ]
    }
   ],
   "source": [
    "# New analysis\n",
    "\n",
    "print(\"Experiment with new data\")"
   ]
  },
  {
   "cell_type": "code",
   "execution_count": null,
   "id": "dc888536",
   "metadata": {},
   "outputs": [],
   "source": []
  }
 ],
 "metadata": {
  "kernelspec": {
   "display_name": ".venv",
   "language": "python",
   "name": "python3"
  },
  "language_info": {
   "codemirror_mode": {
    "name": "ipython",
    "version": 3
   },
   "file_extension": ".py",
   "mimetype": "text/x-python",
   "name": "python",
   "nbconvert_exporter": "python",
   "pygments_lexer": "ipython3",
   "version": "3.13.7"
  }
 },
 "nbformat": 4,
 "nbformat_minor": 5
}
